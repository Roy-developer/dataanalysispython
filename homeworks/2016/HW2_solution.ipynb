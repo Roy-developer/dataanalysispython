{
 "cells": [
  {
   "cell_type": "markdown",
   "metadata": {},
   "source": [
    "# Homework 2\n",
    "\n",
    "**Note: Do not import any libraries besides those listed below!**"
   ]
  },
  {
   "cell_type": "markdown",
   "metadata": {},
   "source": [
    "## Q1 (5 points)\n",
    "\n",
    "Write a program which can compute the factorial of a given number. Loops are not allowed."
   ]
  },
  {
   "cell_type": "code",
   "execution_count": 1,
   "metadata": {
    "collapsed": false
   },
   "outputs": [
    {
     "name": "stdout",
     "output_type": "stream",
     "text": [
      "3628800\n"
     ]
    }
   ],
   "source": [
    "def factorial(x):\n",
    "    if x == 0:\n",
    "        return 1\n",
    "    return x * factorial(x - 1)\n",
    "\n",
    "print(factorial(10))"
   ]
  },
  {
   "cell_type": "markdown",
   "metadata": {},
   "source": [
    "## Q2 (5 points)\n",
    "\n",
    "Write a program that accepts a sentence and calculates the number of letters and digits."
   ]
  },
  {
   "cell_type": "code",
   "execution_count": 2,
   "metadata": {
    "collapsed": false
   },
   "outputs": [
    {
     "name": "stdout",
     "output_type": "stream",
     "text": [
      "{'Letters': 10, 'Digits': 3}\n"
     ]
    }
   ],
   "source": [
    "out = {\"Digits\": 0, \"Letters\": 0}\n",
    "\n",
    "def count_dl(sentence):\n",
    "    for symbol in sentence:\n",
    "        if symbol.isdigit():\n",
    "            out[\"Digits\"] += 1\n",
    "        elif symbol.isalpha():\n",
    "            out[\"Letters\"] += 1\n",
    "        else:\n",
    "            pass\n",
    "    return out\n",
    "\n",
    "print(count_dl(\"###<<--- hello world! 123 --->>@@@\"))"
   ]
  },
  {
   "cell_type": "markdown",
   "metadata": {},
   "source": [
    "## Q3 (10 points)\n",
    "\n",
    "Create a program that will play the “cows and bulls” game with the user. The game works like this:\n",
    "\n",
    "Randomly generate a 4 unique numbers from 1 to 9. Ask the user to guess a 4-digit number. For every digit that the user guessed correctly in the correct place, they have a “bull”. For every digit the user guessed correctly in the wrong place is a “cow.” Every time the user makes a guess, tell them how many “cows” and “bulls” they have. Once the user guesses the correct number, the game is over. Keep track of the number of guesses the user makes throughout the game and tell the user at the end.\n",
    "\n",
    "Use function `input()` to make the game interactive."
   ]
  },
  {
   "cell_type": "code",
   "execution_count": 3,
   "metadata": {
    "collapsed": false
   },
   "outputs": [
    {
     "name": "stdout",
     "output_type": "stream",
     "text": [
      "Let's play a game of Cowbull!\n",
      "I will generate a number, and you have to guess the numbers one digit at a time.\n",
      "For every number in the wrong place, you get a cow.\n",
      "For every one in the right place, you get a bull.\n",
      "The game ends when you get 4 bulls!\n",
      "Type 'exit' at any prompt to exit.\n",
      "Correct number: 5871\n",
      "Give me your best guess!\n",
      "1234\n",
      "You have 1 cows, and 0 bulls. Try again.\n",
      "Give me your best guess!\n",
      "7154\n",
      "You have 3 cows, and 0 bulls. Try again.\n",
      "Give me your best guess!\n",
      "5832\n",
      "You have 0 cows, and 2 bulls. Try again.\n",
      "Give me your best guess!\n",
      "5817\n",
      "You have 2 cows, and 2 bulls. Try again.\n",
      "Give me your best guess!\n",
      "5871\n",
      "You have 0 cows, and 4 bulls. Try again.\n",
      "You win the game after 5 guesses! The number was 5871 \n"
     ]
    }
   ],
   "source": [
    "import random\n",
    "\n",
    "\n",
    "def compare_numbers(number, user_guess):\n",
    "    cowbull = [0, 0]\n",
    "    for correct, guess in zip(number, user_guess):\n",
    "        if correct == guess:\n",
    "            cowbull[1] += 1\n",
    "        elif guess in number:\n",
    "            cowbull[0] += 1\n",
    "    return tuple(cowbull)\n",
    "\n",
    "\n",
    "playing = True\n",
    "number = ''.join([str(x) for x in random.sample(list(range(1, 10)), 4)])\n",
    "guesses = 0\n",
    "\n",
    "print(\"Let's play a game of Cowbull!\\n\"\n",
    "      \"I will generate a number, \"\n",
    "      \"and you have to guess the numbers one digit at a time.\\n\"\n",
    "      \"For every number in the wrong place, you get a cow.\\n\"\n",
    "      \"For every one in the right place, you get a bull.\\n\"\n",
    "      \"The game ends when you get 4 bulls!\\n\"\n",
    "      \"Type 'exit' at any prompt to exit.\")\n",
    "\n",
    "print('Correct number: %s' % number)\n",
    "\n",
    "while playing:\n",
    "    user_guess = input(\"Give me your best guess!\\n\")\n",
    "    if user_guess == \"exit\":\n",
    "        break\n",
    "    cowbullcount = compare_numbers(number, user_guess)\n",
    "    guesses += 1\n",
    "    print('You have %s cows, and %s bulls. Try again.' % cowbullcount)\n",
    "\n",
    "    if cowbullcount[1] == 4:\n",
    "        playing = False\n",
    "        print(\"You win the game after %s guesses! The number was %s \"\n",
    "              % (guesses, number))"
   ]
  },
  {
   "cell_type": "markdown",
   "metadata": {},
   "source": [
    "# Q4 (15 points)\n",
    "\n",
    "CEPR website (http://cepr.org/static/researchers/research_fellows_all.php) lists names and affiliations of its members. If you click on each name, you will open his/her personal profile (i.e. http://cepr.org/active/researchers/contact.php?IDENT=126021). Write the code that would collect the names and emails of the first ten CEPR members."
   ]
  },
  {
   "cell_type": "code",
   "execution_count": 4,
   "metadata": {
    "collapsed": false
   },
   "outputs": [
    {
     "name": "stdout",
     "output_type": "stream",
     "text": [
      "Jaap H Abbring: j.h.abbring@uvt.nl\n",
      "Jérôme Adda: jerome.adda@unibocconi.it\n",
      "Philippe Aghion: p.aghion@lse.ac.uk\n",
      "Victor Aguirregabiria: victor.aguirregabiria@utoronto.ca\n",
      "Daron Acemoglu: daron@mit.edu\n",
      "Klaus Adam: adam@uni-mannheim.de\n",
      "Stefania Albanesi: stefania.albanesi@gmail.com\n",
      "Tobias Adrian: tobias.adrian@ny.frb.org\n",
      "Viral V Acharya: vacharya@stern.nyu.edu\n",
      "Rui Albuquerque: rui.albuquerque@bc.edu\n"
     ]
    }
   ],
   "source": [
    "import re\n",
    "import urllib.request\n",
    "from bs4 import BeautifulSoup\n",
    "\n",
    "\n",
    "url = 'http://cepr.org/static/researchers/research_fellows_all.php'\n",
    "html = urllib.request.urlopen(url).read()\n",
    "soup = BeautifulSoup(html, 'html.parser')\n",
    "pattern = '.*\\/active\\/researchers\\/contact.*'\n",
    "tags = soup.find_all('a', href=re.compile(pattern))\n",
    "\n",
    "data = {}\n",
    "for tag in tags[:10]:\n",
    "    mail_url = 'http://cepr.org' + tag.get('href')\n",
    "    mail_html = urllib.request.urlopen(mail_url).read()\n",
    "    mail_soup = BeautifulSoup(mail_html, 'html.parser')\n",
    "    mail_tag = mail_soup.find_all('a', href=re.compile('mailto*.'))[0]\n",
    "    data[tag.contents[0]] = mail_tag.contents[0]\n",
    "\n",
    "for key, value in data.items():\n",
    "    print(key, ': ', value, sep='')"
   ]
  }
 ],
 "metadata": {
  "anaconda-cloud": {},
  "kernelspec": {
   "display_name": "Python [default]",
   "language": "python",
   "name": "python3"
  },
  "language_info": {
   "codemirror_mode": {
    "name": "ipython",
    "version": 3
   },
   "file_extension": ".py",
   "mimetype": "text/x-python",
   "name": "python",
   "nbconvert_exporter": "python",
   "pygments_lexer": "ipython3",
   "version": "3.5.2"
  }
 },
 "nbformat": 4,
 "nbformat_minor": 1
}
