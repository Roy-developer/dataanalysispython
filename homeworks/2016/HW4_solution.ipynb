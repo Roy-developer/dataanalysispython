{
 "cells": [
  {
   "cell_type": "markdown",
   "metadata": {},
   "source": [
    "# Homework 4\n",
    "\n",
    "The purpose of this exercise is to analyze mobile app usage data located and described here: http://www0.cs.ucl.ac.uk/staff/S.Lim/app_user_survey/.\n",
    "\n",
    "Here is the summary of questions and data types:\n",
    "\n",
    "- Response Status (category)\n",
    "- Q1 (text): Browser Meta Info\n",
    "- Q2 (binary): Do you own a mobile device? \n",
    "- Q3 (text): What mobile device do you use?\n",
    "- Q4 (category): Which app store do you use?\n",
    "- Q5 (category): How frequently do you visit the app store to look for apps?\n",
    "- Q6 (category): On average, how many apps do you download a month?\n",
    "- Q7 (dummy): When do you look for apps?\n",
    "- Q8 (dummy): How do you find apps?\n",
    "- Q9 (dummy): What do you consider when choosing apps to download?\n",
    "- Q10 (dummy): Why do you download an app?\n",
    "- Q11 (dummy): Why do you spend money on an app?\n",
    "- Q12 (free text): What is the most you have spent on an app?\n",
    "- Q13 (dummy): Why do you rate apps?\n",
    "- Q14 (dummy): What makes you stop using an app?\n",
    "- Q15 (dummy): Which type of apps do you download?\n",
    "- Q16 (category): ignore!\n",
    "- Q17 (int): Age\n",
    "- Q17 - Q28 (categories): demographical questions\n",
    "- Q24 (int): Years of education\n",
    "- Q29: income - ignore!\n",
    "- Q30: personality - ignore!"
   ]
  },
  {
   "cell_type": "code",
   "execution_count": 1,
   "metadata": {
    "collapsed": true
   },
   "outputs": [],
   "source": [
    "import re\n",
    "import requests\n",
    "\n",
    "import matplotlib.pylab as plt\n",
    "import numpy as np\n",
    "import pandas as pd\n",
    "\n",
    "pd.set_option('float_format', '{:6.2f}'.format)\n",
    "np.set_printoptions(precision=3, suppress=True)\n",
    "\n",
    "url = 'http://www.cs.ucl.ac.uk/research/app_user_survey/mobile_app_user_dataset.xlsx'\n",
    "path = '../../data/mobile_app_user_dataset.xlsx'"
   ]
  },
  {
   "cell_type": "markdown",
   "metadata": {},
   "source": [
    "## Q1 (5 points)\n",
    "\n",
    "Download the data file from the web to your hard drive using `requests` library."
   ]
  },
  {
   "cell_type": "code",
   "execution_count": 2,
   "metadata": {
    "collapsed": false
   },
   "outputs": [],
   "source": [
    "response = requests.get(url)\n",
    "with open(path, \"wb\") as file:\n",
    "    file.write(response.content)"
   ]
  },
  {
   "cell_type": "markdown",
   "metadata": {},
   "source": [
    "## Q2 (5 points)\n",
    "\n",
    "In the Excel file the first two rows are\n",
    "- short column name\n",
    "- corresponding long survey question\n",
    "\n",
    "Import first only the first two rows to obtain the Series of key-value pairs."
   ]
  },
  {
   "cell_type": "code",
   "execution_count": 3,
   "metadata": {
    "collapsed": false
   },
   "outputs": [
    {
     "name": "stdout",
     "output_type": "stream",
     "text": [
      "ID                                     Unique ID for each participant\n",
      "StartDate                                                   StartDate\n",
      "EndDate                                                       EndDate\n",
      "Response Status     0=incomplete response, 1=complete response, 2=...\n",
      "Participant Type                                      1=ours, 2=panel\n",
      "Name: 0, dtype: object\n"
     ]
    }
   ],
   "source": [
    "questions = pd.read_excel(path, 'Sheet1').iloc[0].T\n",
    "\n",
    "print(questions.head())"
   ]
  },
  {
   "cell_type": "markdown",
   "metadata": {},
   "source": [
    "## Q3 (5 points)\n",
    "\n",
    "Import the whole dataset with the second row as a header."
   ]
  },
  {
   "cell_type": "code",
   "execution_count": 4,
   "metadata": {
    "collapsed": false
   },
   "outputs": [
    {
     "name": "stdout",
     "output_type": "stream",
     "text": [
      "   ID           StartDate             EndDate  Response Status  \\\n",
      "0   1 2012-09-26 07:46:07 2012-09-26 07:46:21                2   \n",
      "1   2 2012-09-26 07:45:19 2012-09-26 07:56:41                1   \n",
      "2   3 2012-09-26 07:45:35 2012-09-26 08:01:56                1   \n",
      "3   4 2012-09-26 16:58:29 2012-09-26 17:05:50                1   \n",
      "4   5 2012-09-27 04:16:04 2012-09-27 04:24:56                1   \n",
      "\n",
      "   Participant Type      Q1_1_TEXT     Q1_2_TEXT  \\\n",
      "0                 1         Chrome  21.0.1180.89   \n",
      "1                 1  Safari iPhone             6   \n",
      "2                 1         Safari             6   \n",
      "3                 1        Firefox        15.0.1   \n",
      "4                 1         Chrome  22.0.1229.79   \n",
      "\n",
      "                         Q1_3_TEXT  Q1_4_TEXT Q1_5_TEXT   ...    Q30_1  Q30_2  \\\n",
      "0                            WOW64   1280x800   11.3.31   ...      nan    nan   \n",
      "1  CPU iPhone OS 6_0 like Mac OS X    320x480        -1   ...     6.00   3.00   \n",
      "2         CPU OS 6_0 like Mac OS X   768x1024        -1   ...     4.00   4.00   \n",
      "3              Intel Mac OS X 10.6  1920x1200  11.4.402   ...     4.00   3.00   \n",
      "4            Intel Mac OS X 10_7_4   1280x800  11.4.402   ...     2.00   6.00   \n",
      "\n",
      "   Q30_3  Q30_4  Q30_5  Q30_6  Q30_7  Q30_8  Q30_9  Q30_10  \n",
      "0    nan    nan    nan    nan    nan    nan    nan     nan  \n",
      "1   7.00   2.00   6.00   3.00   4.00   3.00   4.00    4.00  \n",
      "2   5.00   2.00   3.00   3.00   5.00   3.00   5.00    3.00  \n",
      "3   6.00   3.00   5.00   5.00   5.00   2.00   5.00    3.00  \n",
      "4   4.00   3.00   6.00   5.00   7.00   3.00   5.00    3.00  \n",
      "\n",
      "[5 rows x 161 columns]\n"
     ]
    }
   ],
   "source": [
    "raw = pd.read_excel(path, 'Sheet1', skiprows=[1])\n",
    "\n",
    "print(raw.head())"
   ]
  },
  {
   "cell_type": "markdown",
   "metadata": {},
   "source": [
    "## Q4 (20 points)\n",
    "\n",
    "- Rename columns according to the dictionary given below\n",
    "- Convert these columns into pandas `categorical` type using answers given in the second row of the Excel file. For example, Q2 column (M1 cell) has the following text below (M2 cell): \"Do you own a mobile device? (e.g., phone or tablet)-1=Yes, 2=No\". Hence, you need to convert column \"Q2\", or rather \"Own mobile\" to a categrical type with labels \"Yes and \"No\". Note that they have to be ordered according to initial codes (1 and 2).\n",
    "- Print value counts for each of those columns.\n",
    "\n",
    "Full credit is given only for a universal code that works for all columns in the dictionary through the loop. Partial credit is given to a longer case specific solution."
   ]
  },
  {
   "cell_type": "code",
   "execution_count": 5,
   "metadata": {
    "collapsed": false
   },
   "outputs": [
    {
     "name": "stdout",
     "output_type": "stream",
     "text": [
      "Full-time         2027\n",
      "Student           1091\n",
      "Part-time          533\n",
      "Retired            455\n",
      "Unemployed         436\n",
      "Self-employed      380\n",
      "Homemaker          279\n",
      "Unable to work      79\n",
      "Other               36\n",
      "Name: Employment, dtype: int64 \n",
      "\n",
      "[0 - 1]           2574\n",
      "[2 - 5]           2168\n",
      "[6 - 10]           735\n",
      "[11 - 20]          382\n",
      "[21 - 30]          131\n",
      "[More than 30]      97\n",
      "Name: App downloads, dtype: int64 \n",
      "\n",
      "English       1480\n",
      "Spanish        583\n",
      "Mandarin       569\n",
      "Portuguese     456\n",
      "Other          402\n",
      "Japanese       356\n",
      "French         355\n",
      "Russian        337\n",
      "Italian        280\n",
      "German         277\n",
      "Korean         271\n",
      "Name: Language, dtype: int64 \n",
      "\n",
      "Yes    8992\n",
      "No     1208\n",
      "Name: Own mobile, dtype: int64 \n",
      "\n",
      "White                2122\n",
      "Asian                1644\n",
      "Prefer not to say     556\n",
      "Hispanic              362\n",
      "Other                 298\n",
      "Mixed                 297\n",
      "Black                  87\n",
      "Name: Ethnicity, dtype: int64 \n",
      "\n",
      "Never                     1086\n",
      "Less than once a month    1022\n",
      "More than once a week     1002\n",
      "Once a month               675\n",
      "Once a week                670\n",
      "More than once a month     649\n",
      "Once a day                 531\n",
      "Several times a day        400\n",
      "Other                       52\n",
      "Name: Freq to use App Store, dtype: int64 \n",
      "\n",
      "Canada                552\n",
      "China                 539\n",
      "Brazil                454\n",
      "India                 360\n",
      "Japan                 356\n",
      "Australia             334\n",
      "United States         324\n",
      "Russian Federation    308\n",
      "United Kingdom        305\n",
      "Italy                 290\n",
      "Spain                 281\n",
      "Germany               278\n",
      "France                272\n",
      "Republic of Korea     268\n",
      "Mexico                259\n",
      "Other                 186\n",
      "Name: Residence, dtype: int64 \n",
      "\n",
      "Student                                                      1039\n",
      "Office and Administrative Support Occupations                 501\n",
      "Sales and Related Occupations                                 421\n",
      "Management Occupations                                        372\n",
      "Education                                                     367\n",
      "Computer and Mathematical Occupations                         318\n",
      "Business and Financial Operations Occupations                 236\n",
      "Other                                                         234\n",
      "Production Occupations                                        204\n",
      "Arts                                                          196\n",
      "Architecture and Engineering Occupations                      156\n",
      "Healthcare Practitioners and Technical Occupations            144\n",
      "Personal Care and Service Occupations                         144\n",
      "Food Preparation and Serving Related Occupations              127\n",
      "Construction and Extraction Occupations                       126\n",
      "Installation                                                  119\n",
      "Transportation and Material Moving Occupations                119\n",
      "Healthcare Support Occupations                                106\n",
      "Community and Social Services Occupations                      95\n",
      "Legal Occupations                                              63\n",
      "Life                                                           61\n",
      "Protective Service Occupations                                 47\n",
      "Farming                                                        46\n",
      "Building and Grounds Cleaning and Maintenance Occupations      43\n",
      "Military Specific Occupations                                  32\n",
      "Name: Occupation, dtype: int64 \n",
      "\n",
      "No                   4953\n",
      "Yes                   212\n",
      "Prefer not to say     151\n",
      "Name: Disability, dtype: int64 \n",
      "\n",
      "Euro                     1139\n",
      "Canadian Dollar           551\n",
      "Chinese Yuan Renminbi     528\n",
      "Brazilian Real            449\n",
      "US Dollar                 357\n",
      "Indian Rupee              356\n",
      "Japanese Yen              350\n",
      "Australian Dollar         336\n",
      "Russian Ruble             301\n",
      "British Pound             296\n",
      "South Korean Won          255\n",
      "Mexican Peso              255\n",
      "Other                     143\n",
      "Name: Currency, dtype: int64 \n",
      "\n",
      "Married              2331\n",
      "Single               1843\n",
      "In a relationship     802\n",
      "Divorced              218\n",
      "Separated              83\n",
      "Widowed                70\n",
      "Other                  19\n",
      "Name: Marital status, dtype: int64 \n",
      "\n",
      "Undergraduate degree       1507\n",
      "Secondary / High school    1478\n",
      "Diploma                    1100\n",
      "Master’s degree             586\n",
      "Vocational training         399\n",
      "Doctoral degree             146\n",
      "Primary school               77\n",
      "Other                        23\n",
      "Name: Education, dtype: int64 \n",
      "\n",
      "Google Play / Android Market               2066\n",
      "None - my mobile device cannot run apps    1653\n",
      "Apple iOS App Store                        1169\n",
      "Nokia Ovi Store                             830\n",
      "I don't know                                737\n",
      "Samsung Application Store                   722\n",
      "Blackberry App World                        333\n",
      "Windows Phone Marketplace                   162\n",
      "Other                                       150\n",
      "I don’t use apps                             76\n",
      "Name: App Store, dtype: int64 \n",
      "\n",
      "Chinese         583\n",
      "Canadian        465\n",
      "Brazillian      452\n",
      "Indian          383\n",
      "Japanese        355\n",
      "Russian         317\n",
      "American        305\n",
      "Australian      300\n",
      "Italian         293\n",
      "British         284\n",
      "Other           278\n",
      "Spanish         274\n",
      "South Korean    273\n",
      "French          273\n",
      "German          272\n",
      "Mexican         259\n",
      "Name: Nationality, dtype: int64 \n",
      "\n"
     ]
    }
   ],
   "source": [
    "cols = {'Q2': 'Own mobile', 'Q4': 'App Store', 'Q5': 'Freq to use App Store',\n",
    "        'Q6': 'App downloads', 'Q18': 'Marital status', 'Q19': 'Nationality',\n",
    "        'Q20': 'Residence', 'Q21': 'Language', 'Q22': 'Ethnicity',\n",
    "        'Q23': 'Education', 'Q25': 'Disability', 'Q26': 'Employment',\n",
    "        'Q27': 'Occupation', 'Q28': 'Currency'}\n",
    "\n",
    "data1 = raw.copy()\n",
    "\n",
    "for col_code, col_name in cols.items():\n",
    "    codes = re.findall('(\\d+)=(.*?)(?:\\(.*?\\))*(?:\\,|$)', questions[col_code])\n",
    "    codes = [(int(x[0]), x[1].strip()) for x in codes]\n",
    "    data1[col_code] = data1[col_code].astype('category', ordered=True)\n",
    "    data1[col_code].cat.rename_categories([x[1] for x in codes], inplace=True)\n",
    "\n",
    "data1.rename(columns=cols, inplace=True)\n",
    "\n",
    "for col_code, col_name in cols.items():\n",
    "    print(data1[col_name].value_counts(), '\\n')"
   ]
  },
  {
   "cell_type": "markdown",
   "metadata": {},
   "source": [
    "## Q4.1 (bonus, not graded)\n",
    "\n",
    "Rename columns that start with \"Q1\\_\" using the text given in the second row of the Excel file, but after the words \"Browser Meta Info-\". For example, column \"Q1\\_7\\_TEXT\" should be renamed into \"Browser\"."
   ]
  },
  {
   "cell_type": "code",
   "execution_count": 6,
   "metadata": {
    "collapsed": false
   },
   "outputs": [
    {
     "name": "stdout",
     "output_type": "stream",
     "text": [
      "         Browser Flash Version                 Operating System  \\\n",
      "0         Chrome       11.3.31                            WOW64   \n",
      "1  Safari iPhone            -1  CPU iPhone OS 6_0 like Mac OS X   \n",
      "2         Safari            -1         CPU OS 6_0 like Mac OS X   \n",
      "3        Firefox      11.4.402              Intel Mac OS X 10.6   \n",
      "4         Chrome      11.4.402            Intel Mac OS X 10_7_4   \n",
      "\n",
      "  Screen Resolution       Version  Java Support  \\\n",
      "0          1280x800  21.0.1180.89          1.00   \n",
      "1           320x480             6          0.00   \n",
      "2          768x1024             6          0.00   \n",
      "3         1920x1200        15.0.1          1.00   \n",
      "4          1280x800  22.0.1229.79          1.00   \n",
      "\n",
      "                                          User Agent  \n",
      "0  Mozilla/5.0 (Windows NT 6.1; WOW64) AppleWebKi...  \n",
      "1  Mozilla/5.0 (iPhone; CPU iPhone OS 6_0 like Ma...  \n",
      "2  Mozilla/5.0 (iPad; CPU OS 6_0 like Mac OS X) A...  \n",
      "3  Mozilla/5.0 (Macintosh; Intel Mac OS X 10.6; r...  \n",
      "4  Mozilla/5.0 (Macintosh; Intel Mac OS X 10_7_4)...  \n"
     ]
    }
   ],
   "source": [
    "data2 = data1.copy()\n",
    "\n",
    "q1cols = [x for x in questions.index if x.startswith('Q1_')]\n",
    "browser_meta = dict(questions[q1cols].apply(lambda x: x.split('-')[1]))\n",
    "data2.rename(columns=browser_meta, inplace=True)\n",
    "\n",
    "print(data2[list(browser_meta.values())].head())"
   ]
  },
  {
   "cell_type": "markdown",
   "metadata": {},
   "source": [
    "## Q5 (20 points)\n",
    "\n",
    "Write a function that takes in two arguments: the dataset and a column name. The function returns the table where rows are categories from the specified column name, and columns are app downloads. The values are shares of each category among each \"App downloads\" category."
   ]
  },
  {
   "cell_type": "code",
   "execution_count": 7,
   "metadata": {
    "collapsed": false
   },
   "outputs": [
    {
     "name": "stdout",
     "output_type": "stream",
     "text": [
      "App downloads            [0 - 1]  [2 - 5]  [6 - 10]  [11 - 20]  [21 - 30]  \\\n",
      "Education                                                                   \n",
      "Undergraduate degree       23.74    27.03     36.76      42.05      40.17   \n",
      "Master’s degree            10.69    11.07      9.71      11.08      10.26   \n",
      "Diploma                    23.55    20.29     17.65      12.78      22.22   \n",
      "Secondary / High school    27.28    30.84     25.59      25.57      20.51   \n",
      "Doctoral degree             2.93     2.78      1.32       1.70       2.56   \n",
      "Vocational training         9.83     6.28      6.47       5.40       3.42   \n",
      "Primary school              1.51     1.44      1.76       0.85       0.85   \n",
      "Other                       0.47     0.26      0.74       0.57       0.00   \n",
      "\n",
      "App downloads            [More than 30]  \n",
      "Education                                \n",
      "Undergraduate degree              36.05  \n",
      "Master’s degree                   23.26  \n",
      "Diploma                           17.44  \n",
      "Secondary / High school           15.12  \n",
      "Doctoral degree                    4.65  \n",
      "Vocational training                2.33  \n",
      "Primary school                     1.16  \n",
      "Other                              0.00  \n"
     ]
    }
   ],
   "source": [
    "def who_downloads_apps(data, col):\n",
    "    \"\"\"Compute shares of col categories by 'App downloads'\"\"\"\n",
    "    df = data.groupby([col, 'App downloads'])['ID'].count()\n",
    "    counts = df.unstack().fillna(0)\n",
    "    df = counts.apply(lambda x: x / x.sum() * 100, axis=0)\n",
    "    df.sort_values(by=counts.columns[-1], ascending=False, inplace=True)\n",
    "    return df\n",
    "\n",
    "print(who_downloads_apps(data2, 'Education'))"
   ]
  },
  {
   "cell_type": "markdown",
   "metadata": {},
   "source": [
    "## Q6 (5 points)\n",
    "\n",
    "Who is the heaviest app user by mariatal status? By ethnicity?"
   ]
  },
  {
   "cell_type": "code",
   "execution_count": 8,
   "metadata": {
    "collapsed": false
   },
   "outputs": [
    {
     "name": "stdout",
     "output_type": "stream",
     "text": [
      "Marital status\n",
      "Married              44.32\n",
      "Single               38.64\n",
      "In a relationship    13.64\n",
      "Widowed               2.27\n",
      "Divorced              1.14\n",
      "Separated             0.00\n",
      "Other                 0.00\n",
      "Name: [More than 30], dtype: float64\n",
      "\n",
      "\n",
      "Ethnicity\n",
      "Asian                51.14\n",
      "White                19.32\n",
      "Prefer not to say    12.50\n",
      "Other                 6.82\n",
      "Mixed                 5.68\n",
      "Hispanic              4.55\n",
      "Black                 0.00\n",
      "Name: [More than 30], dtype: float64\n"
     ]
    }
   ],
   "source": [
    "print(who_downloads_apps(data2, 'Marital status').iloc[:, -1])\n",
    "print('\\n')\n",
    "print(who_downloads_apps(data2, 'Ethnicity').iloc[:, -1])"
   ]
  },
  {
   "cell_type": "markdown",
   "metadata": {},
   "source": [
    "## Q7 (5 points)\n",
    "\n",
    "Separate respondents into groups by age in 10 year increments. Print value counts."
   ]
  },
  {
   "cell_type": "code",
   "execution_count": 9,
   "metadata": {
    "collapsed": false
   },
   "outputs": [
    {
     "name": "stdout",
     "output_type": "stream",
     "text": [
      "(20, 30]    1511\n",
      "(30, 40]    1156\n",
      "(10, 20]     961\n",
      "(40, 50]     695\n",
      "(60, 70]     458\n",
      "(50, 60]     400\n",
      "(70, 80]     167\n",
      "(80, 90]      18\n",
      "Name: Age group, dtype: int64\n"
     ]
    }
   ],
   "source": [
    "data2 = data2.rename(columns={'Q17': 'Age'})\n",
    "data2['Age group'] = pd.cut(data2['Age'], np.arange(10, 100, 10))\n",
    "\n",
    "print(data2['Age group'].value_counts())"
   ]
  },
  {
   "cell_type": "markdown",
   "metadata": {},
   "source": [
    "## Q8 (5 points)\n",
    "\n",
    "Who is the heaviest app user by age group? Plot histogram."
   ]
  },
  {
   "cell_type": "code",
   "execution_count": 10,
   "metadata": {
    "collapsed": false
   },
   "outputs": [
    {
     "data": {
      "image/png": "[encoded data removed]",
      "text/plain": [
       "<matplotlib.figure.Figure at 0x7f91fc845358>"
      ]
     },
     "metadata": {},
     "output_type": "display_data"
    }
   ],
   "source": [
    "who_downloads_apps(data2, 'Age group').iloc[:, -1].plot(kind='bar')\n",
    "plt.title('Heavy app usage by age group')\n",
    "plt.ylabel('%')\n",
    "plt.show()"
   ]
  }
 ],
 "metadata": {
  "anaconda-cloud": {},
  "kernelspec": {
   "display_name": "Python [default]",
   "language": "python",
   "name": "python3"
  },
  "language_info": {
   "codemirror_mode": {
    "name": "ipython",
    "version": 3
   },
   "file_extension": ".py",
   "mimetype": "text/x-python",
   "name": "python",
   "nbconvert_exporter": "python",
   "pygments_lexer": "ipython3",
   "version": "3.5.2"
  }
 },
 "nbformat": 4,
 "nbformat_minor": 1
}
