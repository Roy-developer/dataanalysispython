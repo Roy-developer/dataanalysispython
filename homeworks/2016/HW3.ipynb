{
 "cells": [
  {
   "cell_type": "markdown",
   "metadata": {},
   "source": [
    "# Homework 3\n",
    "\n",
    "**Note: Do not import any libraries besides those listed below!**"
   ]
  },
  {
   "cell_type": "code",
   "execution_count": 1,
   "metadata": {
    "collapsed": true
   },
   "outputs": [],
   "source": [
    "import numpy as np\n",
    "\n",
    "np.set_printoptions(precision=3, suppress=True)"
   ]
  },
  {
   "cell_type": "markdown",
   "metadata": {},
   "source": [
    "## Q1 (10 points)"
   ]
  },
  {
   "cell_type": "code",
   "execution_count": 2,
   "metadata": {
    "collapsed": false
   },
   "outputs": [],
   "source": [
    "import os\n",
    "import urllib.request\n",
    "\n",
    "url = 'http://scipy-lectures.github.io/_downloads/populations.txt'\n",
    "fname = 'populations.txt'\n",
    "if not os.path.exists(fname):\n",
    "    urllib.request.urlretrieve(url, fname)"
   ]
  },
  {
   "cell_type": "markdown",
   "metadata": {},
   "source": [
    "Load the file into NumPy array and print first five rows of the populations data."
   ]
  },
  {
   "cell_type": "code",
   "execution_count": 3,
   "metadata": {
    "collapsed": false
   },
   "outputs": [
    {
     "name": "stdout",
     "output_type": "stream",
     "text": [
      "[[30000  4000 48300]\n",
      " [47200  6100 48200]\n",
      " [70200  9800 41500]\n",
      " [77400 35200 38200]\n",
      " [36300 59400 40600]]\n"
     ]
    }
   ],
   "source": []
  },
  {
   "cell_type": "markdown",
   "metadata": {},
   "source": [
    "What is the mean and standard deviation of the populations of each species for the years in the period?"
   ]
  },
  {
   "cell_type": "code",
   "execution_count": 4,
   "metadata": {
    "collapsed": false
   },
   "outputs": [
    {
     "name": "stdout",
     "output_type": "stream",
     "text": [
      "Mean (hare, lynx, carrot): [ 34080.952  20166.667  42400.   ]\n",
      "Std (hare, lynx, carrot): [ 20897.906  16254.592   3322.506]\n"
     ]
    }
   ],
   "source": []
  },
  {
   "cell_type": "markdown",
   "metadata": {},
   "source": [
    "In which years did each species have the largest population?"
   ]
  },
  {
   "cell_type": "code",
   "execution_count": 16,
   "metadata": {
    "collapsed": false
   },
   "outputs": [
    {
     "name": "stdout",
     "output_type": "stream",
     "text": [
      "[1903 1904 1900]\n"
     ]
    }
   ],
   "source": []
  },
  {
   "cell_type": "markdown",
   "metadata": {},
   "source": [
    "Which species has the largest population for each year?"
   ]
  },
  {
   "cell_type": "code",
   "execution_count": 6,
   "metadata": {
    "collapsed": false
   },
   "outputs": [
    {
     "name": "stdout",
     "output_type": "stream",
     "text": [
      "[['1900' 'carrot']\n",
      " ['1901' 'carrot']\n",
      " ['1902' 'hare']\n",
      " ['1903' 'hare']\n",
      " ['1904' 'lynx']\n",
      " ['1905' 'lynx']\n",
      " ['1906' 'carrot']\n",
      " ['1907' 'carrot']\n",
      " ['1908' 'carrot']\n",
      " ['1909' 'carrot']\n",
      " ['1910' 'carrot']\n",
      " ['1911' 'carrot']\n",
      " ['1912' 'hare']\n",
      " ['1913' 'hare']\n",
      " ['1914' 'hare']\n",
      " ['1915' 'lynx']\n",
      " ['1916' 'carrot']\n",
      " ['1917' 'carrot']\n",
      " ['1918' 'carrot']\n",
      " ['1919' 'carrot']\n",
      " ['1920' 'carrot']]\n"
     ]
    }
   ],
   "source": []
  },
  {
   "cell_type": "markdown",
   "metadata": {},
   "source": [
    "Which years any of the populations is above 50000?"
   ]
  },
  {
   "cell_type": "code",
   "execution_count": 7,
   "metadata": {
    "collapsed": false
   },
   "outputs": [
    {
     "name": "stdout",
     "output_type": "stream",
     "text": [
      "[1902 1903 1904 1912 1913 1914 1915]\n"
     ]
    }
   ],
   "source": []
  },
  {
   "cell_type": "markdown",
   "metadata": {},
   "source": [
    "The top 2 years for each species when they had the lowest populations."
   ]
  },
  {
   "cell_type": "code",
   "execution_count": 8,
   "metadata": {
    "collapsed": false
   },
   "outputs": [
    {
     "name": "stdout",
     "output_type": "stream",
     "text": [
      "[[1917 1900 1916]\n",
      " [1916 1901 1903]]\n"
     ]
    }
   ],
   "source": []
  },
  {
   "cell_type": "markdown",
   "metadata": {},
   "source": [
    "# Q2 (10 points)"
   ]
  },
  {
   "cell_type": "markdown",
   "metadata": {},
   "source": [
    "Create a 10 by 6 array from normal distribution with mean 100 and standard deviation 15, and convert to integers."
   ]
  },
  {
   "cell_type": "code",
   "execution_count": 9,
   "metadata": {
    "collapsed": false
   },
   "outputs": [
    {
     "name": "stdout",
     "output_type": "stream",
     "text": [
      "[[ 79  56 125  86  88  91]\n",
      " [ 88 116 108  82 114  96]\n",
      " [ 97 103  85  88 107 100]\n",
      " [107  78 110 120  74 108]\n",
      " [100 112 109 119  89  77]\n",
      " [ 93 102  91  80  78 100]\n",
      " [101 104  92 111 101 103]\n",
      " [ 98  99 112  77 126  89]\n",
      " [103  96  96  90 104 111]\n",
      " [131 104 116 107  94 109]]\n"
     ]
    }
   ],
   "source": []
  },
  {
   "cell_type": "markdown",
   "metadata": {},
   "source": [
    "Convert matrix to have zero mean and unit standard deviation using column summary statistics."
   ]
  },
  {
   "cell_type": "code",
   "execution_count": 10,
   "metadata": {
    "collapsed": false
   },
   "outputs": [
    {
     "name": "stdout",
     "output_type": "stream",
     "text": [
      "[[-1.604 -2.454  1.703 -0.637 -0.621 -0.741]\n",
      " [-0.906  1.137  0.298 -0.892  1.079 -0.24 ]\n",
      " [-0.209  0.359 -1.604 -0.51   0.621  0.16 ]\n",
      " [ 0.566 -1.137  0.463  1.529 -1.537  0.962]\n",
      " [ 0.023  0.898  0.38   1.465 -0.556 -2.144]\n",
      " [-0.519  0.299 -1.108 -1.019 -1.276  0.16 ]\n",
      " [ 0.101  0.419 -1.025  0.956  0.229  0.461]\n",
      " [-0.132  0.12   0.628 -1.21   1.864 -0.942]\n",
      " [ 0.256 -0.06  -0.695 -0.382  0.425  1.262]\n",
      " [ 2.425  0.419  0.959  0.701 -0.229  1.062]]\n",
      "Mean:  [-0.  0. -0.  0. -0. -0.]\n",
      "Std:  [ 1.  1.  1.  1.  1.  1.]\n"
     ]
    }
   ],
   "source": []
  },
  {
   "cell_type": "markdown",
   "metadata": {},
   "source": [
    "Convert matrix to have zero mean and unit standard deviation using row summary statistics."
   ]
  },
  {
   "cell_type": "code",
   "execution_count": 11,
   "metadata": {
    "collapsed": false
   },
   "outputs": [
    {
     "name": "stdout",
     "output_type": "stream",
     "text": [
      "[[-0.418 -1.548  1.842 -0.074  0.025  0.172]\n",
      " [-0.982  1.189  0.569 -1.448  1.034 -0.362]\n",
      " [ 0.042  0.807 -1.487 -1.105  1.317  0.425]\n",
      " [ 0.436 -1.251  0.611  1.193 -1.484  0.495]\n",
      " [-0.07   0.768  0.559  1.257 -0.838 -1.676]\n",
      " [ 0.257  1.247  0.037 -1.174 -1.394  1.027]\n",
      " [-0.179  0.357 -1.786  1.608 -0.179  0.179]\n",
      " [-0.138 -0.074  0.755 -1.478  1.648 -0.712]\n",
      " [ 0.441 -0.588 -0.588 -1.469  0.588  1.616]\n",
      " [ 1.829 -0.541  0.512 -0.278 -1.419 -0.102]]\n",
      "Mean:  [ 0. -0. -0. -0.  0. -0.  0. -0. -0. -0.]\n",
      "Std:  [ 1.  1.  1.  1.  1.  1.  1.  1.  1.  1.]\n"
     ]
    }
   ],
   "source": []
  },
  {
   "cell_type": "markdown",
   "metadata": {},
   "source": [
    "Create the 10x10 multiplication table."
   ]
  },
  {
   "cell_type": "code",
   "execution_count": 12,
   "metadata": {
    "collapsed": false
   },
   "outputs": [
    {
     "name": "stdout",
     "output_type": "stream",
     "text": [
      "[[  1   2   3   4   5   6   7   8   9  10]\n",
      " [  2   4   6   8  10  12  14  16  18  20]\n",
      " [  3   6   9  12  15  18  21  24  27  30]\n",
      " [  4   8  12  16  20  24  28  32  36  40]\n",
      " [  5  10  15  20  25  30  35  40  45  50]\n",
      " [  6  12  18  24  30  36  42  48  54  60]\n",
      " [  7  14  21  28  35  42  49  56  63  70]\n",
      " [  8  16  24  32  40  48  56  64  72  80]\n",
      " [  9  18  27  36  45  54  63  72  81  90]\n",
      " [ 10  20  30  40  50  60  70  80  90 100]]\n"
     ]
    }
   ],
   "source": []
  },
  {
   "cell_type": "markdown",
   "metadata": {},
   "source": [
    "## Q3 (10 points)"
   ]
  },
  {
   "cell_type": "markdown",
   "metadata": {},
   "source": [
    "Calculate the pairwise Euclidean distance matrix between the following points: (0,0) (4,0) (4,3) (0,3)\n",
    "\n",
    "Time each function using `%timeit` Jupyter magic function."
   ]
  },
  {
   "cell_type": "code",
   "execution_count": 13,
   "metadata": {
    "collapsed": false
   },
   "outputs": [
    {
     "name": "stdout",
     "output_type": "stream",
     "text": [
      "Python version:\n",
      " [[ 0.  4.  5.  3.]\n",
      " [ 4.  0.  3.  5.]\n",
      " [ 5.  3.  0.  4.]\n",
      " [ 3.  5.  4.  0.]]\n",
      "10000 loops, best of 3: 106 µs per loop\n",
      "NumPy version:\n",
      " [[ 0.  4.  5.  3.]\n",
      " [ 4.  0.  3.  5.]\n",
      " [ 5.  3.  0.  4.]\n",
      " [ 3.  5.  4.  0.]]\n",
      "10000 loops, best of 3: 21.8 µs per loop\n"
     ]
    }
   ],
   "source": []
  },
  {
   "cell_type": "markdown",
   "metadata": {},
   "source": [
    "## Q4 (10 points)"
   ]
  },
  {
   "cell_type": "markdown",
   "metadata": {},
   "source": [
    "Generate the data according to\n",
    "$$\n",
    "y=\\sum_{i=0}^5\\beta_ix^i+e,\n",
    "$$\n",
    "\n",
    "where $\\beta$ are random random integers from [0, 10), $x$ is the grid of 50 equidistant points on [0, 1], and $e\\sim N(0, 5)$. Plot the data."
   ]
  },
  {
   "cell_type": "code",
   "execution_count": 14,
   "metadata": {
    "collapsed": false
   },
   "outputs": [
    {
     "data": {
      "image/png": "[encoded data removed]",
      "text/plain": [
       "<matplotlib.figure.Figure at 0x7f239409cd68>"
      ]
     },
     "metadata": {},
     "output_type": "display_data"
    }
   ],
   "source": [
    "import matplotlib.pylab as plt"
   ]
  },
  {
   "cell_type": "markdown",
   "metadata": {},
   "source": [
    "Fit linear and quadratic regressions only using `np.linalg.lstsq`. Fit 10th order polynomial using `np.polyfit`. Plot fitted regressions on the same graph."
   ]
  },
  {
   "cell_type": "code",
   "execution_count": 15,
   "metadata": {
    "collapsed": false
   },
   "outputs": [
    {
     "data": {
      "image/png": "[encoded data removed]",
      "text/plain": [
       "<matplotlib.figure.Figure at 0x7f23775bbda0>"
      ]
     },
     "metadata": {},
     "output_type": "display_data"
    }
   ],
   "source": []
  }
 ],
 "metadata": {
  "anaconda-cloud": {},
  "kernelspec": {
   "display_name": "Python [default]",
   "language": "python",
   "name": "python3"
  },
  "language_info": {
   "codemirror_mode": {
    "name": "ipython",
    "version": 3
   },
   "file_extension": ".py",
   "mimetype": "text/x-python",
   "name": "python",
   "nbconvert_exporter": "python",
   "pygments_lexer": "ipython3",
   "version": "3.5.2"
  }
 },
 "nbformat": 4,
 "nbformat_minor": 1
}
